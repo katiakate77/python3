{
 "cells": [
  {
   "cell_type": "markdown",
   "metadata": {},
   "source": [
    "Импортируем библиотеку pandas и загружаем данные из файла titanic.csv. Это список пассажиров Титаника, где указаны их данные и то, выжили ли они после кораблекрушения."
   ]
  },
  {
   "cell_type": "code",
   "execution_count": 22,
   "metadata": {},
   "outputs": [],
   "source": [
    "import pandas as pd\n",
    "df = pd.read_csv('titanic.csv')\n",
    "# df_copy = df.copy(deep=True)"
   ]
  },
  {
   "cell_type": "markdown",
   "metadata": {},
   "source": [
    "Посмотрим структуру данных с помощью метода head:"
   ]
  },
  {
   "cell_type": "code",
   "execution_count": 23,
   "metadata": {},
   "outputs": [
    {
     "data": {
      "text/html": [
       "<div>\n",
       "<style scoped>\n",
       "    .dataframe tbody tr th:only-of-type {\n",
       "        vertical-align: middle;\n",
       "    }\n",
       "\n",
       "    .dataframe tbody tr th {\n",
       "        vertical-align: top;\n",
       "    }\n",
       "\n",
       "    .dataframe thead th {\n",
       "        text-align: right;\n",
       "    }\n",
       "</style>\n",
       "<table border=\"1\" class=\"dataframe\">\n",
       "  <thead>\n",
       "    <tr style=\"text-align: right;\">\n",
       "      <th></th>\n",
       "      <th>PassengerId</th>\n",
       "      <th>Survived</th>\n",
       "      <th>Pclass</th>\n",
       "      <th>Name</th>\n",
       "      <th>Sex</th>\n",
       "      <th>Age</th>\n",
       "      <th>SibSp</th>\n",
       "      <th>Parch</th>\n",
       "      <th>Ticket</th>\n",
       "      <th>Fare</th>\n",
       "      <th>Cabin</th>\n",
       "      <th>Embarked</th>\n",
       "    </tr>\n",
       "  </thead>\n",
       "  <tbody>\n",
       "    <tr>\n",
       "      <th>0</th>\n",
       "      <td>1</td>\n",
       "      <td>0</td>\n",
       "      <td>3</td>\n",
       "      <td>Braund, Mr. Owen Harris</td>\n",
       "      <td>male</td>\n",
       "      <td>22.0</td>\n",
       "      <td>1</td>\n",
       "      <td>0</td>\n",
       "      <td>A/5 21171</td>\n",
       "      <td>7.2500</td>\n",
       "      <td>NaN</td>\n",
       "      <td>S</td>\n",
       "    </tr>\n",
       "    <tr>\n",
       "      <th>1</th>\n",
       "      <td>2</td>\n",
       "      <td>1</td>\n",
       "      <td>1</td>\n",
       "      <td>Cumings, Mrs. John Bradley (Florence Briggs Th...</td>\n",
       "      <td>female</td>\n",
       "      <td>38.0</td>\n",
       "      <td>1</td>\n",
       "      <td>0</td>\n",
       "      <td>PC 17599</td>\n",
       "      <td>71.2833</td>\n",
       "      <td>C85</td>\n",
       "      <td>C</td>\n",
       "    </tr>\n",
       "    <tr>\n",
       "      <th>2</th>\n",
       "      <td>3</td>\n",
       "      <td>1</td>\n",
       "      <td>3</td>\n",
       "      <td>Heikkinen, Miss. Laina</td>\n",
       "      <td>female</td>\n",
       "      <td>26.0</td>\n",
       "      <td>0</td>\n",
       "      <td>0</td>\n",
       "      <td>STON/O2. 3101282</td>\n",
       "      <td>7.9250</td>\n",
       "      <td>NaN</td>\n",
       "      <td>S</td>\n",
       "    </tr>\n",
       "    <tr>\n",
       "      <th>3</th>\n",
       "      <td>4</td>\n",
       "      <td>1</td>\n",
       "      <td>1</td>\n",
       "      <td>Futrelle, Mrs. Jacques Heath (Lily May Peel)</td>\n",
       "      <td>female</td>\n",
       "      <td>35.0</td>\n",
       "      <td>1</td>\n",
       "      <td>0</td>\n",
       "      <td>113803</td>\n",
       "      <td>53.1000</td>\n",
       "      <td>C123</td>\n",
       "      <td>S</td>\n",
       "    </tr>\n",
       "    <tr>\n",
       "      <th>4</th>\n",
       "      <td>5</td>\n",
       "      <td>0</td>\n",
       "      <td>3</td>\n",
       "      <td>Allen, Mr. William Henry</td>\n",
       "      <td>male</td>\n",
       "      <td>35.0</td>\n",
       "      <td>0</td>\n",
       "      <td>0</td>\n",
       "      <td>373450</td>\n",
       "      <td>8.0500</td>\n",
       "      <td>NaN</td>\n",
       "      <td>S</td>\n",
       "    </tr>\n",
       "    <tr>\n",
       "      <th>5</th>\n",
       "      <td>6</td>\n",
       "      <td>0</td>\n",
       "      <td>3</td>\n",
       "      <td>Moran, Mr. James</td>\n",
       "      <td>male</td>\n",
       "      <td>NaN</td>\n",
       "      <td>0</td>\n",
       "      <td>0</td>\n",
       "      <td>330877</td>\n",
       "      <td>8.4583</td>\n",
       "      <td>NaN</td>\n",
       "      <td>Q</td>\n",
       "    </tr>\n",
       "  </tbody>\n",
       "</table>\n",
       "</div>"
      ],
      "text/plain": [
       "   PassengerId  Survived  Pclass  \\\n",
       "0            1         0       3   \n",
       "1            2         1       1   \n",
       "2            3         1       3   \n",
       "3            4         1       1   \n",
       "4            5         0       3   \n",
       "5            6         0       3   \n",
       "\n",
       "                                                Name     Sex   Age  SibSp  \\\n",
       "0                            Braund, Mr. Owen Harris    male  22.0      1   \n",
       "1  Cumings, Mrs. John Bradley (Florence Briggs Th...  female  38.0      1   \n",
       "2                             Heikkinen, Miss. Laina  female  26.0      0   \n",
       "3       Futrelle, Mrs. Jacques Heath (Lily May Peel)  female  35.0      1   \n",
       "4                           Allen, Mr. William Henry    male  35.0      0   \n",
       "5                                   Moran, Mr. James    male   NaN      0   \n",
       "\n",
       "   Parch            Ticket     Fare Cabin Embarked  \n",
       "0      0         A/5 21171   7.2500   NaN        S  \n",
       "1      0          PC 17599  71.2833   C85        C  \n",
       "2      0  STON/O2. 3101282   7.9250   NaN        S  \n",
       "3      0            113803  53.1000  C123        S  \n",
       "4      0            373450   8.0500   NaN        S  \n",
       "5      0            330877   8.4583   NaN        Q  "
      ]
     },
     "execution_count": 23,
     "metadata": {},
     "output_type": "execute_result"
    }
   ],
   "source": [
    "df.head(6)"
   ]
  },
  {
   "cell_type": "markdown",
   "metadata": {},
   "source": [
    "В столбце Pclass указан класс, в котором путешествовал пассажир. Сколько пассажиров было в первом классе? Во сколько раз их меньше, чем пассажиров третьего класса?"
   ]
  },
  {
   "cell_type": "code",
   "execution_count": 24,
   "metadata": {},
   "outputs": [
    {
     "name": "stdout",
     "output_type": "stream",
     "text": [
      "Количество пассажиров первого класса: 216\n",
      "Количество пассажиров третьего класса: 491\n",
      "Пассажиров первого класса в 2.27 меньше, чем пассажиров третьего класса.\n"
     ]
    }
   ],
   "source": [
    "first_class = df[df['Pclass'] == 1]['Pclass'].count()\n",
    "third_class = df[df['Pclass'] == 3]['Pclass'].count()\n",
    "print('Количество пассажиров первого класса:', first_class)\n",
    "print('Количество пассажиров третьего класса:', third_class)\n",
    "print('Пассажиров первого класса в {:.2f} меньше, чем пассажиров третьего класса.'.format(third_class/first_class))"
   ]
  },
  {
   "cell_type": "markdown",
   "metadata": {},
   "source": [
    "Сколько процентов пассажиров выжило?"
   ]
  },
  {
   "cell_type": "code",
   "execution_count": 25,
   "metadata": {},
   "outputs": [
    {
     "name": "stdout",
     "output_type": "stream",
     "text": [
      "38.38% пассажиров выжило.\n"
     ]
    }
   ],
   "source": [
    "survived = df[df['Survived'] == 1]['Survived'].count()\n",
    "print('{:.2%} пассажиров выжило.'.format(survived/df.shape[0]))"
   ]
  },
  {
   "cell_type": "markdown",
   "metadata": {},
   "source": [
    "Кого на корабле было больше: мужчин или женщин?"
   ]
  },
  {
   "cell_type": "code",
   "execution_count": 26,
   "metadata": {},
   "outputs": [
    {
     "name": "stdout",
     "output_type": "stream",
     "text": [
      "Мужчин больше, чем женщин\n"
     ]
    }
   ],
   "source": [
    "# P_sex = data['Sex'].value_counts()\n",
    "# if  P_sex['male'] > P_sex['female']:\n",
    "#     print('Мужчин больше, чем женщин')\n",
    "# elif P_sex['male'] == P_sex['female']: \n",
    "#     print('Равное количество')\n",
    "# else:\n",
    "#     print('Женщин больше, чем мужчин')\n",
    "\n",
    "men = df[df['Sex'] == 'male']['Sex'].count()\n",
    "women = df[df['Sex'] == 'female']['Sex'].count()\n",
    "if men > women:\n",
    "    print('Мужчин больше, чем женщин')\n",
    "elif women > men:\n",
    "    print('Женщин больше, чем мужчин')\n",
    "else:\n",
    "    print('Равное количество')"
   ]
  },
  {
   "cell_type": "markdown",
   "metadata": {},
   "source": [
    "Посчитать средний и медианный возраст пассажиров. Сравните их со средним и медианным возрастом выживших пассажиров."
   ]
  },
  {
   "cell_type": "code",
   "execution_count": 27,
   "metadata": {},
   "outputs": [
    {
     "name": "stdout",
     "output_type": "stream",
     "text": [
      "Средний возраст пассажиров: 29.70\n",
      "Медианный возраст пассажиров: 28.0\n",
      "Средний возраст выживших пассажиров: 28.34\n",
      "Медианный возраст выживших пассажиров: 28.0\n"
     ]
    }
   ],
   "source": [
    "print('Средний возраст пассажиров: {:.2f}'.format(df['Age'].mean()))\n",
    "print('Медианный возраст пассажиров: {:.1f}'.format(df['Age'].median()))\n",
    "print('Средний возраст выживших пассажиров: {:.2f}'.format(df[df['Survived'] == 1]['Age'].mean()))  \n",
    "print('Медианный возраст выживших пассажиров: {:.1f}'.format(df[df['Survived'] == 1]['Age'].median()))\n",
    "\n",
    "\n",
    "# df_copy.dropna(subset = ['Age'], inplace= True)\n",
    "\n",
    "# ages = list(df_copy['Age'])\n",
    "# ages_survived = list(df_copy[df_copy['Survived'] == 1]['Age'])\n",
    "\n",
    "# def average_age(list_of_age):\n",
    "#     return sum(list_of_age)/len(list_of_age)\n",
    "\n",
    "# def median_age(list_of_age):\n",
    "#     sorted_ages = sorted(list_of_age)\n",
    "#     if len(sorted_ages) % 2 == 0:\n",
    "#         return (sorted_ages[(len(sorted_ages)//2)] + sorted_ages[(len(sorted_ages)//2)-1])/2\n",
    "#     else:\n",
    "#         return sorted_ages[(len(sorted_ages)//2)]\n",
    "\n",
    "# print('Средний возраст пассажиров: {:.2f}'.format(average_age(ages)))\n",
    "# print('Медианный возраст пассажиров: ', median_age(ages))\n",
    "\n",
    "# print('Средний возраст выживших пассажиров: {:.2f}'.format(average_age(ages_survived)))  \n",
    "# print('Медианный возраст выживших пассажиров: ', median_age(ages_survived))"
   ]
  },
  {
   "cell_type": "markdown",
   "metadata": {},
   "source": [
    "В таблице есть столбец SibSp - это число братьев/сестер/супругов человека. Также в столбце Parch записано количество родителей/детей. Посмотрим, как коррелируют эти величины."
   ]
  },
  {
   "cell_type": "code",
   "execution_count": 28,
   "metadata": {},
   "outputs": [
    {
     "name": "stdout",
     "output_type": "stream",
     "text": [
      "Коэффициент корреляции: 0.415\n"
     ]
    }
   ],
   "source": [
    "# siblings - братья и сестры\n",
    "\n",
    "# df['Family_members'] = df['Parch'] + df['SibSp']\n",
    "# df['Is_Alone'] = df['Family_members'] == 0\n",
    "# df.head(15)\n",
    "\n",
    "# correlation_data = df[['SibSp','Parch']]\n",
    "# print(correlation_data.corr())\n",
    "\n",
    "print('Коэффициент корреляции: {:.3f}'.format(df['SibSp'].corr(df['Parch'], method='pearson')))\n",
    "\n",
    "# Слабая положительная корреляция"
   ]
  },
  {
   "cell_type": "markdown",
   "metadata": {},
   "source": [
    "Какое самое популярное женское имя на корабле? Обратите внимание, формат записи имен различается, поэтому нужно предварительно выделить из записи само имя."
   ]
  },
  {
   "cell_type": "code",
   "execution_count": 29,
   "metadata": {},
   "outputs": [
    {
     "name": "stdout",
     "output_type": "stream",
     "text": [
      "Самое популярное женское имя на корабле: Anna\n"
     ]
    }
   ],
   "source": [
    "import re\n",
    "from collections import Counter\n",
    "\n",
    "full_female_names = df[df['Sex'] == 'female']['Name']\n",
    "\n",
    "\n",
    "# Удобней написать функцию, которая из входной строки выбирает имя:\n",
    "\n",
    "def get_name(s):\n",
    "    \n",
    "    pattern_1 = re.compile('Mrs.\\s.*\\((\\w+)')\n",
    "    pattern_2 = re.compile('\\.\\s(\\w+)')\n",
    "    pattern_3 = re.compile('\\.\\s\\((\\w+)')\n",
    "    \n",
    "# У замужних женщин чаще всего после \"Mrs.\" стоит имя мужа, а имя и фамилия женщины располагаются в скобках.\n",
    "# Сначала анализируем имена замужних женщин в скобках, а потом все остальные.\n",
    "\n",
    "    if pattern_1.search(s):\n",
    "        first_name = pattern_1.search(s).group(1)\n",
    "        return first_name\n",
    "    elif not pattern_1.search(s) and pattern_2.search(s):\n",
    "        first_name = pattern_2.search(s).group(1)\n",
    "        return first_name\n",
    "    elif not pattern_1.search(s) and not pattern_2.search(s) and pattern_3.search(s):\n",
    "        first_name = pattern_3.search(s).group(1)\n",
    "        return first_name   \n",
    "    \n",
    "# Создадим список, в который будем складывать полученные имена.\n",
    "\n",
    "name_list = []\n",
    "\n",
    "for line in full_female_names:\n",
    "    if get_name(line) != None:\n",
    "        name_list.append(get_name(line))\n",
    "\n",
    "# print(name_list)\n",
    "\n",
    "# Теперь нужно найти самое распространенное в списке имя.\n",
    "\n",
    "def most_freq_name(any_name_list):\n",
    "    counter = Counter(any_name_list)\n",
    "#     print(counter.most_common(5))\n",
    "#     return sorted(counter.keys(), key=lambda k: -counter[k])[0]\n",
    "    return max(counter.keys(), key=lambda k: counter[k])\n",
    "\n",
    "print('Самое популярное женское имя на корабле:', most_freq_name(name_list))\n"
   ]
  },
  {
   "cell_type": "markdown",
   "metadata": {},
   "source": [
    "Создать словарь, где ключи - выделенные женские имена, а значения - количество невыживших с этими именами."
   ]
  },
  {
   "cell_type": "code",
   "execution_count": 39,
   "metadata": {},
   "outputs": [
    {
     "name": "stdout",
     "output_type": "stream",
     "text": [
      "{'Hulda': 1, 'Emelia': 1, 'Torborg': 1, 'Augusta': 3, 'Johanna': 1, 'Dorothy': 2, 'Josefine': 1, 'Lillian': 1, 'Matilda': 1, 'Hileni': 1, 'Katriina': 1, 'Malake': 1, 'Ellis': 1, 'Grace': 1, 'Sultana': 1, 'Robina': 1, 'Anna': 3, 'Ann': 1, 'Constance': 1, 'Henriette': 1, 'Telma': 1, 'Mathilde': 1, 'Alice': 1, 'Thamine': 1, 'Agda': 1, 'Elna': 1, 'Helena': 1, 'Delia': 1, 'Aloisia': 1, 'Helen': 1, 'Annie': 2, 'Catherine': 3, 'Stina': 1, 'Elina': 1, 'Mari': 1, 'Marija': 2, 'Ida': 2, 'Catharina': 1, 'Doolina': 1, 'Jeannie': 1, 'Bessie': 1, 'Mary': 4, 'Bridget': 1, 'Kristina': 1, 'Ingeborg': 1, 'Sigrid': 1, 'Marion': 1, 'Alma': 1, 'Maria': 2, 'Alfrida': 1, 'Cordelia': 1, 'Mabel': 1, 'Margit': 1, 'Hanora': 1, 'Katie': 1, 'Saiide': 1, 'Pieta': 1, 'Margaret': 2, 'Stella': 1, 'Rosalie': 1, 'Ellen': 1, 'Ebba': 1, 'Wendla': 1, 'Nourelain': 1, 'Lilian': 1, 'Gerda': 1}\n"
     ]
    }
   ],
   "source": [
    "from collections import Counter\n",
    "\n",
    "# female_names_non_surv = {}\n",
    "\n",
    "women_data = df[df['Sex'] == 'female']\n",
    "women_full_names_non_survived = women_data[women_data['Survived'] == 0]\n",
    "\n",
    "\n",
    "counter = Counter()\n",
    "\n",
    "for line in women_full_names_non_survived['Name']:\n",
    "    if get_name(line) != None:\n",
    "        name = get_name(line)\n",
    "        counter[name] += 1   \n",
    "#         female_names_non_surv[name] = counter[name]\n",
    "\n",
    "# print(female_names_non_surv)\n",
    "print(dict(counter.items()))"
   ]
  }
 ],
 "metadata": {
  "kernelspec": {
   "display_name": "Python 3",
   "language": "python",
   "name": "python3"
  },
  "language_info": {
   "codemirror_mode": {
    "name": "ipython",
    "version": 3
   },
   "file_extension": ".py",
   "mimetype": "text/x-python",
   "name": "python",
   "nbconvert_exporter": "python",
   "pygments_lexer": "ipython3",
   "version": "3.8.2"
  }
 },
 "nbformat": 4,
 "nbformat_minor": 4
}
